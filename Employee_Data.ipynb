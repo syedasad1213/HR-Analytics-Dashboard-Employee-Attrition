{
 "cells": [
  {
   "cell_type": "code",
   "execution_count": null,
   "id": "f05c7d7a",
   "metadata": {},
   "outputs": [],
   "source": [
    "import pandas as pd\n",
    "import numpy as np\n",
    "import matplotlib "
   ]
  }
 ],
 "metadata": {
  "language_info": {
   "name": "python"
  }
 },
 "nbformat": 4,
 "nbformat_minor": 5
}
